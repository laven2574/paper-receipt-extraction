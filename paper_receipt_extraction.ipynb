{
 "cells": [
  {
   "cell_type": "markdown",
   "metadata": {},
   "source": [
    "Sources of Python tutorial:\n",
    "def function tutorial: https://realpython.com/python-return-statement/\n",
    "Regex(re) tutorials: https://docs.python.org/3/library/re.html https://developers.google.com/edu/python/regular-expressions https://www.programiz.com/python-programming/regex\n",
    "OCR with Tesseract, OpenCV: https://nanonets.com/blog/ocr-with-tesseract/"
   ]
  },
  {
   "cell_type": "code",
   "execution_count": 1,
   "metadata": {},
   "outputs": [],
   "source": [
    "import cv2\n",
    "import re\n",
    "import numpy as np\n",
    "import pytesseract\n",
    "from pytesseract import Output\n",
    "import pandas as pd\n",
    "#from datetime import datetime\n",
    "import datetime"
   ]
  },
  {
   "cell_type": "code",
   "execution_count": 2,
   "metadata": {},
   "outputs": [],
   "source": [
    "pytesseract.pytesseract.tesseract_cmd = r'C:\\Program Files\\Tesseract-OCR\\tesseract'"
   ]
  },
  {
   "cell_type": "code",
   "execution_count": 3,
   "metadata": {},
   "outputs": [],
   "source": [
    "img =cv2.imread(r\"C:\\Users\\joerr\\Desktop\\Receipts\\receipt_apr4.jpg\",cv2.IMREAD_UNCHANGED)"
   ]
  },
  {
   "cell_type": "code",
   "execution_count": 4,
   "metadata": {},
   "outputs": [],
   "source": [
    "#we wanna add a customised date to record the bought date instead of today. -- done\n",
    "#sentiment categorisation for items"
   ]
  },
  {
   "cell_type": "code",
   "execution_count": 25,
   "metadata": {},
   "outputs": [],
   "source": [
    "def receipt2words(img):\n",
    "    scale_percent = 100 # percent of original size\n",
    "    width = int(img.shape[1] * scale_percent / 100)\n",
    "    height = int(img.shape[0] * scale_percent / 100)\n",
    "    dim = (width, height)\n",
    "    img = cv2.resize(img, dim)\n",
    "    \n",
    "    def get_grayscale(image):\n",
    "        return cv2.cvtColor(image, cv2.COLOR_BGR2GRAY)\n",
    "    \n",
    "    gray = get_grayscale(img)\n",
    "    text1 = (pytesseract.image_to_string(img)).lower()\n",
    "    text2 = (pytesseract.image_to_string(gray)).lower()\n",
    "    return text1, text2\n",
    "\n",
    "text1,text2 = receipt2words(img)"
   ]
  },
  {
   "cell_type": "code",
   "execution_count": 26,
   "metadata": {},
   "outputs": [],
   "source": [
    "def bought_list(text_):\n",
    "    grocery = re.findall(r'\\n([^|\\n]+)\\d?',text_)\n",
    "    \n",
    "    def remove_duplicates(x):\n",
    "        return list(dict.fromkeys(x))\n",
    "\n",
    "    unwanted =[]\n",
    "    wordings = ['terminal','invoice','countdown','receipt','date','cashier','amount','change','card', 'total', 'broadway',\n",
    "                '§']\n",
    "    for x in grocery:\n",
    "        for j in wordings:\n",
    "            if j in x:\n",
    "                unwanted.append(x)\n",
    "\n",
    "    unwanted = remove_duplicates(unwanted)\n",
    "    final_list = [x for x in grocery if x not in unwanted]\n",
    "    return final_list\n"
   ]
  },
  {
   "cell_type": "code",
   "execution_count": 27,
   "metadata": {},
   "outputs": [
    {
     "name": "stdout",
     "output_type": "stream",
     "text": [
      "birr pak ns nsave sylvia re\n",
      "4 sp food warehouse ltd »#\n",
      "\n",
      "286 mt wellington highway\n",
      "proof of purchase will be required\n",
      "for all refunds or exchanges\n",
      "tel: (09) 526 1790\n",
      "\n",
      "order online and collect from the store\n",
      "go to paknsave.co.nz/shop\n",
      "\n",
      "a/wick reed blckbry/van 5oml $8.49\n",
      "dettol a/b h/wash hoistr rf s50ml $6.29\n",
      "duck deep action gel pine 750hl $2.99\n",
      "kinder bueno hazelnut 436\n",
      "\n",
      "2 q $1.50 $3.00\n",
      "red bull energy drink 250ml can\n",
      "\n",
      "2@ $1.95 $3.90\n",
      "sorbent facial tissues white 224s\n",
      "\n",
      "2@ $2.79 $5.58\n",
      "sorbent facial tissu -$0.58\n",
      "wrigleys eclipse mint chewy s/mint 276 $1.69\n",
      "lewis road creamry frsh hnt ch mlk 3ooml $3.79\n",
      "nz beef stir fry $7.92\n",
      "nz pork sirloin steak $7.48\n",
      "turks f/r nibbles moroccan 1kg $8.79\n",
      "\n",
      "14 balance due $99.34\n",
      "eftpos $59.34\n",
      "\n",
      "xuzsazeese329456\n",
      "\n",
      "__ auth code = 026090\n",
      "\n",
      "\n"
     ]
    }
   ],
   "source": [
    "print(text1)"
   ]
  },
  {
   "cell_type": "code",
   "execution_count": 28,
   "metadata": {
    "scrolled": true
   },
   "outputs": [
    {
     "name": "stdout",
     "output_type": "stream",
     "text": [
      "*® sp food warehouse ltd *x\n",
      "286 mt wellington highway\n",
      "proof of purchase will be required\n",
      "for all refunds or exchanges\n",
      "tel: (09) 526 1790\n",
      "\n",
      "order online and collect from the store\n",
      "go to paknsave.co.nz/shop\n",
      "a/wick reed blckbry/van 5oml $8.49\n",
      "dettol a/b h/wash hoistr rf s50ml $6.29\n",
      "\n",
      "duck deep action gel pine 750ml $2.99\n",
      "kinder bueno hazelnut 436\n",
      "\n",
      "2 q $1.50 $3.00\n",
      "red bull energy drink 250ml can\n",
      "\n",
      "2@ $1.95 $3.90\n",
      "sorbent facial tissues white 224s\n",
      "\n",
      "2@ $2.79 $5.58\n",
      "sorbent facial tissu -$0.58\n",
      "wrigleys eclipse mint chewy s/mint 276 $1.69\n",
      "lewis road creamry frsh mnt ch mlk sooml $3.79\n",
      "nz beef stir fry $7.92\n",
      "nz pork sirloin steak $7.48\n",
      "turks f/r nibbles moroccan 1kg $8.79\n",
      "\n",
      "14 balance due $99.34\n",
      "eftpos $59.34\n",
      "\n",
      "uassazeese3s9456\n",
      "\n",
      "__ auth code = 026090\n",
      "\n",
      "\n"
     ]
    }
   ],
   "source": [
    "print(text2)"
   ]
  },
  {
   "cell_type": "code",
   "execution_count": 29,
   "metadata": {},
   "outputs": [],
   "source": [
    "bought_list = bought_list(text2)"
   ]
  },
  {
   "cell_type": "code",
   "execution_count": 30,
   "metadata": {},
   "outputs": [
    {
     "data": {
      "text/plain": [
       "['286 mt wellington highway',\n",
       " 'proof of purchase will be required',\n",
       " 'tel: (09) 526 1790',\n",
       " 'order online and collect from the store',\n",
       " 'go to paknsave.co.nz/shop',\n",
       " 'a/wick reed blckbry/van 5oml $8.49',\n",
       " 'dettol a/b h/wash hoistr rf s50ml $6.29',\n",
       " 'duck deep action gel pine 750ml $2.99',\n",
       " 'kinder bueno hazelnut 436',\n",
       " '2 q $1.50 $3.00',\n",
       " 'red bull energy drink 250ml can',\n",
       " '2@ $1.95 $3.90',\n",
       " 'sorbent facial tissues white 224s',\n",
       " '2@ $2.79 $5.58',\n",
       " 'sorbent facial tissu -$0.58',\n",
       " 'wrigleys eclipse mint chewy s/mint 276 $1.69',\n",
       " 'lewis road creamry frsh mnt ch mlk sooml $3.79',\n",
       " 'nz beef stir fry $7.92',\n",
       " 'nz pork sirloin steak $7.48',\n",
       " 'turks f/r nibbles moroccan 1kg $8.79',\n",
       " '14 balance due $99.34',\n",
       " 'eftpos $59.34',\n",
       " 'uassazeese3s9456',\n",
       " '__ auth code = 026090']"
      ]
     },
     "execution_count": 30,
     "metadata": {},
     "output_type": "execute_result"
    }
   ],
   "source": [
    "bought_list"
   ]
  },
  {
   "cell_type": "code",
   "execution_count": 37,
   "metadata": {},
   "outputs": [],
   "source": [
    "def pop_out(XX,p):\n",
    "    while True:\n",
    "        a1 = input(\"Which row you wanna delete? Press n if want to exit. \")\n",
    "        if a1 =='N' or a1 ==('N').lower():\n",
    "            return XX\n",
    "            break\n",
    "        else:\n",
    "            XX.pop(int(a1))\n",
    "            print(XX)\n",
    "            continue\n",
    "    return XX"
   ]
  },
  {
   "cell_type": "code",
   "execution_count": 36,
   "metadata": {},
   "outputs": [
    {
     "name": "stdout",
     "output_type": "stream",
     "text": [
      "Which row you wanna delete? Press n if want to exit n\n"
     ]
    },
    {
     "data": {
      "text/plain": [
       "['a/wick reed blckbry/van 5oml $8.49',\n",
       " 'dettol a/b h/wash hoistr rf s50ml $6.29',\n",
       " 'duck deep action gel pine 750ml $2.99',\n",
       " 'kinder bueno hazelnut 436',\n",
       " '2 q $1.50 $3.00',\n",
       " 'red bull energy drink 250ml can',\n",
       " '2@ $1.95 $3.90',\n",
       " 'sorbent facial tissues white 224s',\n",
       " '2@ $2.79 $5.58',\n",
       " 'sorbent facial tissu -$0.58',\n",
       " 'wrigleys eclipse mint chewy s/mint 276 $1.69',\n",
       " 'lewis road creamry frsh mnt ch mlk sooml $3.79',\n",
       " 'nz beef stir fry $7.92',\n",
       " 'nz pork sirloin steak $7.48',\n",
       " 'turks f/r nibbles moroccan 1kg $8.79']"
      ]
     },
     "execution_count": 36,
     "metadata": {},
     "output_type": "execute_result"
    }
   ],
   "source": [
    "pop_out(bought_list,0)"
   ]
  },
  {
   "cell_type": "markdown",
   "metadata": {},
   "source": [
    "def manual_categorise():\n",
    "    while True:\n",
    "        x1 = input('Which row is needed to change? Press n if want to exit ')\n",
    "        if x1 =='N' or x1 ==('N').lower():\n",
    "            return categorise\n",
    "            break\n",
    "        else:\n",
    "            x2 = str(input('Change to which category? '))\n",
    "            categorise[int(x1)] = (x2).lower()\n",
    "            continue\n",
    "            \n",
    "    return categorise"
   ]
  },
  {
   "cell_type": "code",
   "execution_count": 62,
   "metadata": {},
   "outputs": [],
   "source": [
    "#Add a function to edit wrong input here\n",
    "def editing(a,b, target_string):\n",
    "    bought_list[a] = bought_list[a].split()\n",
    "    bought_list[a][b] = str(target_string)\n",
    "    bought_list[a] = ' '.join(bought_list[a])\n",
    "    return bought_list"
   ]
  },
  {
   "cell_type": "code",
   "execution_count": 71,
   "metadata": {},
   "outputs": [
    {
     "data": {
      "text/plain": [
       "['t/top s/soft 700g white toast 3.50',\n",
       " 'farmer brown eggs size 6 12 pk 5.20',\n",
       " '“ haagen dazs strawberries 457m] 8.00',\n",
       " 'ww chicken padthai w/rice noodles 350g 4.50',\n",
       " '*“hansells naturl soupmxn chkn & tmto 400g 3.50',\n",
       " '* hansells soup chicken corn pouch 400g 3.50',\n",
       " '“ cd bbq beef sliders 600g 7.20']"
      ]
     },
     "execution_count": 71,
     "metadata": {},
     "output_type": "execute_result"
    }
   ],
   "source": [
    "editing(-3,-7,'naturl')"
   ]
  },
  {
   "cell_type": "code",
   "execution_count": 13,
   "metadata": {},
   "outputs": [],
   "source": [
    "def tobelist(bought_list):\n",
    "    check_num = []\n",
    "    for i in bought_list:\n",
    "        nums = re.findall('\\-*\\d+\\s?\\.\\s?[\\d+]+',i)\n",
    "        check_num.append(len(nums))\n",
    "        \n",
    "    noned = []\n",
    "    for i in range(len(check_num)):\n",
    "        if check_num[i] == 0:\n",
    "            bought_list[i+1] = bought_list[i]+' '+bought_list[i+1]\n",
    "            noned.append(i)\n",
    "    for i in sorted(noned, reverse = True):\n",
    "        del bought_list[i]  \n",
    "\n",
    "    price = []\n",
    "    for i in range(len(bought_list)):\n",
    "        popout = bought_list[i].split(' ')\n",
    "        prices = popout.pop(-1)\n",
    "        price.append(prices)\n",
    "        bought_list[i] = ' '.join(popout)\n",
    "    \n",
    "    for i in range(len(price)):\n",
    "        if '$' in price[i]:\n",
    "            price[i] = price[i].replace(\"$\", \"\")\n",
    "    for i in range(len(price)):\n",
    "        if '~' in price[i]:\n",
    "            price[i] = price[i].replace('~','-')\n",
    "            \n",
    "    price = [float(i) for i in price]\n",
    "    return bought_list ,price\n",
    "\n",
    "bought_list, price = tobelist(bought_list)"
   ]
  },
  {
   "cell_type": "code",
   "execution_count": 14,
   "metadata": {},
   "outputs": [],
   "source": [
    "def dateinput():\n",
    "    x = int(input(\"Year:\"))\n",
    "    y = int(input(\"Month:\"))\n",
    "    z = int(input(\"Day:\"))\n",
    "    today = datetime.datetime(x,y,z)\n",
    "    ddate = today.strftime(\"%d/%m/%Y\")\n",
    "    datess = [ddate]*len(bought_list)\n",
    "    return datess"
   ]
  },
  {
   "cell_type": "code",
   "execution_count": 15,
   "metadata": {},
   "outputs": [
    {
     "name": "stdout",
     "output_type": "stream",
     "text": [
      "Year:2020\n",
      "Month:6\n",
      "Day:13\n"
     ]
    }
   ],
   "source": [
    "datess = dateinput()"
   ]
  },
  {
   "cell_type": "code",
   "execution_count": 16,
   "metadata": {},
   "outputs": [
    {
     "data": {
      "text/plain": [
       "['13/06/2020',\n",
       " '13/06/2020',\n",
       " '13/06/2020',\n",
       " '13/06/2020',\n",
       " '13/06/2020',\n",
       " '13/06/2020',\n",
       " '13/06/2020',\n",
       " '13/06/2020',\n",
       " '13/06/2020',\n",
       " '13/06/2020',\n",
       " '13/06/2020',\n",
       " '13/06/2020',\n",
       " '13/06/2020']"
      ]
     },
     "execution_count": 16,
     "metadata": {},
     "output_type": "execute_result"
    }
   ],
   "source": [
    "datess"
   ]
  },
  {
   "cell_type": "code",
   "execution_count": 21,
   "metadata": {},
   "outputs": [],
   "source": [
    "def categorisation(bought_list):\n",
    "    categorise = ['others']*len(bought_list)\n",
    "\n",
    "    wrd_glu = ['toast', 'noodles','bef','hansells','tuna','kungfood']\n",
    "    wrd_meat = ['sliders','nibbles','burgers','steak','mince','stir fry']\n",
    "    wrd_cook = ['eggs','crab stick']\n",
    "    wrd_snack = ['haagen','kinder','eclipse']\n",
    "    wrd_vf = ['kiwifruit golden','persimmons','choy','choi','lettuce']\n",
    "    wrd_drink = ['tea','coffee','coca cola','red bull','lewis road']\n",
    "    wrd_househ = ['tissue','sorbent','dettol']\n",
    "    for i in range(len(bought_list)):\n",
    "        for j in wrd_glu:\n",
    "            if j in bought_list[i]:\n",
    "                categorise[i] = 'gluten'\n",
    "\n",
    "    for i in range(len(bought_list)):\n",
    "        for j in wrd_meat:\n",
    "            if j in bought_list[i]:\n",
    "                categorise[i] = 'meat'\n",
    "\n",
    "    for i in range(len(bought_list)):\n",
    "        for j in wrd_cook:\n",
    "            if j in bought_list[i]:\n",
    "                categorise[i] = 'cook'\n",
    "\n",
    "    for i in range(len(bought_list)):\n",
    "        for j in wrd_snack:\n",
    "            if j in bought_list[i]:\n",
    "                categorise[i] = 'snack'\n",
    "    \n",
    "    for i in range(len(bought_list)):\n",
    "        for j in wrd_vf:\n",
    "            if j in bought_list[i]:\n",
    "                categorise[i] = 'vege_and_fruit'\n",
    "\n",
    "    for i in range(len(bought_list)):\n",
    "        for j in wrd_drink:\n",
    "            if j in bought_list[i]:\n",
    "                categorise[i] = 'drink'\n",
    "\n",
    "    for i in range(len(bought_list)):\n",
    "        for j in wrd_househ:\n",
    "            if j in bought_list[i]:\n",
    "                categorise[i] = 'household'\n",
    "    \n",
    "\n",
    "    return categorise\n",
    "\n",
    "categorise =categorisation(bought_list)"
   ]
  },
  {
   "cell_type": "code",
   "execution_count": 18,
   "metadata": {},
   "outputs": [],
   "source": [
    "def manual_categorise():\n",
    "    while True:\n",
    "        x1 = input('Which row is needed to change? Press n if want to exit ')\n",
    "        if x1 =='N' or x1 ==('N').lower():\n",
    "            return categorise\n",
    "            break\n",
    "        else:\n",
    "            x2 = str(input('Change to which category? '))\n",
    "            categorise[int(x1)] = (x2).lower()\n",
    "            continue\n",
    "            \n",
    "    return categorise"
   ]
  },
  {
   "cell_type": "code",
   "execution_count": 19,
   "metadata": {},
   "outputs": [
    {
     "data": {
      "text/plain": [
       "['others',\n",
       " 'household',\n",
       " 'others',\n",
       " 'snack',\n",
       " 'drink',\n",
       " 'household',\n",
       " 'household',\n",
       " 'snack',\n",
       " 'drink',\n",
       " 'others',\n",
       " 'drink',\n",
       " 'meat',\n",
       " 'others']"
      ]
     },
     "execution_count": 19,
     "metadata": {},
     "output_type": "execute_result"
    }
   ],
   "source": [
    "categorise"
   ]
  },
  {
   "cell_type": "code",
   "execution_count": 22,
   "metadata": {},
   "outputs": [
    {
     "name": "stdout",
     "output_type": "stream",
     "text": [
      "Which row is needed to change? Press n if want to exit -4\n",
      "Change to which category? meat\n",
      "Which row is needed to change? Press n if want to exit 0\n",
      "Change to which category? household\n",
      "Which row is needed to change? Press n if want to exit 2\n",
      "Change to which category? household\n",
      "Which row is needed to change? Press n if want to exit n\n"
     ]
    },
    {
     "data": {
      "text/plain": [
       "['household',\n",
       " 'household',\n",
       " 'household',\n",
       " 'snack',\n",
       " 'drink',\n",
       " 'household',\n",
       " 'household',\n",
       " 'snack',\n",
       " 'drink',\n",
       " 'meat',\n",
       " 'drink',\n",
       " 'meat',\n",
       " 'others']"
      ]
     },
     "execution_count": 22,
     "metadata": {},
     "output_type": "execute_result"
    }
   ],
   "source": [
    "manual_categorise()"
   ]
  },
  {
   "cell_type": "code",
   "execution_count": 20,
   "metadata": {},
   "outputs": [
    {
     "data": {
      "text/html": [
       "<div>\n",
       "<style scoped>\n",
       "    .dataframe tbody tr th:only-of-type {\n",
       "        vertical-align: middle;\n",
       "    }\n",
       "\n",
       "    .dataframe tbody tr th {\n",
       "        vertical-align: top;\n",
       "    }\n",
       "\n",
       "    .dataframe thead th {\n",
       "        text-align: right;\n",
       "    }\n",
       "</style>\n",
       "<table border=\"1\" class=\"dataframe\">\n",
       "  <thead>\n",
       "    <tr style=\"text-align: right;\">\n",
       "      <th></th>\n",
       "      <th>0</th>\n",
       "      <th>1</th>\n",
       "      <th>2</th>\n",
       "      <th>3</th>\n",
       "    </tr>\n",
       "  </thead>\n",
       "  <tbody>\n",
       "    <tr>\n",
       "      <th>0</th>\n",
       "      <td>a/wick reed blckbry/van 5oml</td>\n",
       "      <td>8.49</td>\n",
       "      <td>13/06/2020</td>\n",
       "      <td>others</td>\n",
       "    </tr>\n",
       "    <tr>\n",
       "      <th>1</th>\n",
       "      <td>dettol a/b h/wash hoistr rf s50ml</td>\n",
       "      <td>6.29</td>\n",
       "      <td>13/06/2020</td>\n",
       "      <td>household</td>\n",
       "    </tr>\n",
       "    <tr>\n",
       "      <th>2</th>\n",
       "      <td>duck deep action gel pine 750ml</td>\n",
       "      <td>2.99</td>\n",
       "      <td>13/06/2020</td>\n",
       "      <td>others</td>\n",
       "    </tr>\n",
       "    <tr>\n",
       "      <th>3</th>\n",
       "      <td>kinder bueno hazelnut 436 2 q $1.50</td>\n",
       "      <td>3.0</td>\n",
       "      <td>13/06/2020</td>\n",
       "      <td>snack</td>\n",
       "    </tr>\n",
       "    <tr>\n",
       "      <th>4</th>\n",
       "      <td>red bull energy drink 250ml can 2@ $1.95</td>\n",
       "      <td>3.9</td>\n",
       "      <td>13/06/2020</td>\n",
       "      <td>drink</td>\n",
       "    </tr>\n",
       "    <tr>\n",
       "      <th>5</th>\n",
       "      <td>sorbent facial tissues white 224s 2@ $2.79</td>\n",
       "      <td>5.58</td>\n",
       "      <td>13/06/2020</td>\n",
       "      <td>household</td>\n",
       "    </tr>\n",
       "    <tr>\n",
       "      <th>6</th>\n",
       "      <td>sorbent facial tissu</td>\n",
       "      <td>-0.58</td>\n",
       "      <td>13/06/2020</td>\n",
       "      <td>household</td>\n",
       "    </tr>\n",
       "    <tr>\n",
       "      <th>7</th>\n",
       "      <td>wrigleys eclipse mint chewy s/mint 276</td>\n",
       "      <td>1.69</td>\n",
       "      <td>13/06/2020</td>\n",
       "      <td>snack</td>\n",
       "    </tr>\n",
       "    <tr>\n",
       "      <th>8</th>\n",
       "      <td>lewis road creamry frsh mnt ch mlk sooml</td>\n",
       "      <td>3.79</td>\n",
       "      <td>13/06/2020</td>\n",
       "      <td>drink</td>\n",
       "    </tr>\n",
       "    <tr>\n",
       "      <th>9</th>\n",
       "      <td>nz beef stir fry</td>\n",
       "      <td>7.92</td>\n",
       "      <td>13/06/2020</td>\n",
       "      <td>others</td>\n",
       "    </tr>\n",
       "    <tr>\n",
       "      <th>10</th>\n",
       "      <td>nz pork sirloin steak</td>\n",
       "      <td>7.48</td>\n",
       "      <td>13/06/2020</td>\n",
       "      <td>drink</td>\n",
       "    </tr>\n",
       "    <tr>\n",
       "      <th>11</th>\n",
       "      <td>turks f/r nibbles moroccan 1kg</td>\n",
       "      <td>8.79</td>\n",
       "      <td>13/06/2020</td>\n",
       "      <td>meat</td>\n",
       "    </tr>\n",
       "    <tr>\n",
       "      <th>12</th>\n",
       "      <td>14 balance due</td>\n",
       "      <td>99.34</td>\n",
       "      <td>13/06/2020</td>\n",
       "      <td>others</td>\n",
       "    </tr>\n",
       "  </tbody>\n",
       "</table>\n",
       "</div>"
      ],
      "text/plain": [
       "                                             0      1           2          3\n",
       "0                 a/wick reed blckbry/van 5oml   8.49  13/06/2020     others\n",
       "1            dettol a/b h/wash hoistr rf s50ml   6.29  13/06/2020  household\n",
       "2              duck deep action gel pine 750ml   2.99  13/06/2020     others\n",
       "3          kinder bueno hazelnut 436 2 q $1.50    3.0  13/06/2020      snack\n",
       "4     red bull energy drink 250ml can 2@ $1.95    3.9  13/06/2020      drink\n",
       "5   sorbent facial tissues white 224s 2@ $2.79   5.58  13/06/2020  household\n",
       "6                         sorbent facial tissu  -0.58  13/06/2020  household\n",
       "7       wrigleys eclipse mint chewy s/mint 276   1.69  13/06/2020      snack\n",
       "8     lewis road creamry frsh mnt ch mlk sooml   3.79  13/06/2020      drink\n",
       "9                             nz beef stir fry   7.92  13/06/2020     others\n",
       "10                       nz pork sirloin steak   7.48  13/06/2020      drink\n",
       "11              turks f/r nibbles moroccan 1kg   8.79  13/06/2020       meat\n",
       "12                              14 balance due  99.34  13/06/2020     others"
      ]
     },
     "execution_count": 20,
     "metadata": {},
     "output_type": "execute_result"
    }
   ],
   "source": [
    "flist_view = pd.DataFrame([bought_list,price, datess, categorise]).swapaxes(\"index\", \"columns\")\n",
    "flist_view"
   ]
  },
  {
   "cell_type": "code",
   "execution_count": 148,
   "metadata": {},
   "outputs": [],
   "source": [
    "def savengo(bought_list, price, datess, categorise):\n",
    "    df2 = pd.read_excel('C:/Users/joerr/Desktop/items_bought.xlsx')\n",
    "    frames = [bought_list,price, datess, categorise]\n",
    "    df1 = pd.DataFrame(frames)\n",
    "    df1 = df1.swapaxes(\"index\", \"columns\")\n",
    "    headers = ['Items', 'Price','Date', 'Category']\n",
    "    df1.columns = headers\n",
    "    df1 = df1.fillna(method=\"pad\")\n",
    "    df1 = pd.concat([df2,df1])\n",
    "    df1.to_excel(r\"C:\\Users\\joerr\\Desktop\\items_bought.xlsx\",encoding ='utf-8',index=False) \n",
    "    return df1"
   ]
  },
  {
   "cell_type": "code",
   "execution_count": 149,
   "metadata": {},
   "outputs": [],
   "source": [
    "df1 = savengo(bought_list, price, datess, categorise)"
   ]
  },
  {
   "cell_type": "code",
   "execution_count": 150,
   "metadata": {},
   "outputs": [
    {
     "data": {
      "text/html": [
       "<div>\n",
       "<style scoped>\n",
       "    .dataframe tbody tr th:only-of-type {\n",
       "        vertical-align: middle;\n",
       "    }\n",
       "\n",
       "    .dataframe tbody tr th {\n",
       "        vertical-align: top;\n",
       "    }\n",
       "\n",
       "    .dataframe thead th {\n",
       "        text-align: right;\n",
       "    }\n",
       "</style>\n",
       "<table border=\"1\" class=\"dataframe\">\n",
       "  <thead>\n",
       "    <tr style=\"text-align: right;\">\n",
       "      <th></th>\n",
       "      <th>Items</th>\n",
       "      <th>Price</th>\n",
       "      <th>Date</th>\n",
       "      <th>Category</th>\n",
       "    </tr>\n",
       "  </thead>\n",
       "  <tbody>\n",
       "    <tr>\n",
       "      <th>0</th>\n",
       "      <td>onion brown loose 0.127kg met @ $2.99/kg</td>\n",
       "      <td>0.47</td>\n",
       "      <td>22/03/2022</td>\n",
       "      <td>vege_and_fruit</td>\n",
       "    </tr>\n",
       "    <tr>\n",
       "      <th>1</th>\n",
       "      <td>potato washed white loose potato washed white ...</td>\n",
       "      <td>0.78</td>\n",
       "      <td>22/03/2022</td>\n",
       "      <td>vege_and_fruit</td>\n",
       "    </tr>\n",
       "    <tr>\n",
       "      <th>2</th>\n",
       "      <td>tomato loose</td>\n",
       "      <td>0.93</td>\n",
       "      <td>22/03/2022</td>\n",
       "      <td>vege_and_fruit</td>\n",
       "    </tr>\n",
       "    <tr>\n",
       "      <th>3</th>\n",
       "      <td>indomie mi goreng noodle 10x85</td>\n",
       "      <td>7.00</td>\n",
       "      <td>22/03/2022</td>\n",
       "      <td>gluten</td>\n",
       "    </tr>\n",
       "    <tr>\n",
       "      <th>4</th>\n",
       "      <td>haagen dazs strawberries 457ml</td>\n",
       "      <td>10.00</td>\n",
       "      <td>22/03/2022</td>\n",
       "      <td>snack</td>\n",
       "    </tr>\n",
       "    <tr>\n",
       "      <th>...</th>\n",
       "      <td>...</td>\n",
       "      <td>...</td>\n",
       "      <td>...</td>\n",
       "      <td>...</td>\n",
       "    </tr>\n",
       "    <tr>\n",
       "      <th>7</th>\n",
       "      <td>wrigleys eclipse mint chewy s/mint 276</td>\n",
       "      <td>1.69</td>\n",
       "      <td>11/04/2022</td>\n",
       "      <td>snack</td>\n",
       "    </tr>\n",
       "    <tr>\n",
       "      <th>8</th>\n",
       "      <td>lewis road creamry frsh mnt ch mlk sooml</td>\n",
       "      <td>3.79</td>\n",
       "      <td>11/04/2022</td>\n",
       "      <td>drink</td>\n",
       "    </tr>\n",
       "    <tr>\n",
       "      <th>9</th>\n",
       "      <td>nz beef stir fry</td>\n",
       "      <td>7.92</td>\n",
       "      <td>11/04/2022</td>\n",
       "      <td>others</td>\n",
       "    </tr>\n",
       "    <tr>\n",
       "      <th>10</th>\n",
       "      <td>nz pork sirloin steak</td>\n",
       "      <td>7.48</td>\n",
       "      <td>11/04/2022</td>\n",
       "      <td>drink</td>\n",
       "    </tr>\n",
       "    <tr>\n",
       "      <th>11</th>\n",
       "      <td>turks f/r nibbles moroccan 1kg</td>\n",
       "      <td>8.79</td>\n",
       "      <td>11/04/2022</td>\n",
       "      <td>meat</td>\n",
       "    </tr>\n",
       "  </tbody>\n",
       "</table>\n",
       "<p>298 rows × 4 columns</p>\n",
       "</div>"
      ],
      "text/plain": [
       "                                                Items  Price        Date  \\\n",
       "0            onion brown loose 0.127kg met @ $2.99/kg   0.47  22/03/2022   \n",
       "1   potato washed white loose potato washed white ...   0.78  22/03/2022   \n",
       "2                                        tomato loose   0.93  22/03/2022   \n",
       "3                      indomie mi goreng noodle 10x85   7.00  22/03/2022   \n",
       "4                      haagen dazs strawberries 457ml  10.00  22/03/2022   \n",
       "..                                                ...    ...         ...   \n",
       "7              wrigleys eclipse mint chewy s/mint 276   1.69  11/04/2022   \n",
       "8            lewis road creamry frsh mnt ch mlk sooml   3.79  11/04/2022   \n",
       "9                                    nz beef stir fry   7.92  11/04/2022   \n",
       "10                              nz pork sirloin steak   7.48  11/04/2022   \n",
       "11                     turks f/r nibbles moroccan 1kg   8.79  11/04/2022   \n",
       "\n",
       "          Category  \n",
       "0   vege_and_fruit  \n",
       "1   vege_and_fruit  \n",
       "2   vege_and_fruit  \n",
       "3           gluten  \n",
       "4            snack  \n",
       "..             ...  \n",
       "7            snack  \n",
       "8            drink  \n",
       "9           others  \n",
       "10           drink  \n",
       "11            meat  \n",
       "\n",
       "[298 rows x 4 columns]"
      ]
     },
     "execution_count": 150,
     "metadata": {},
     "output_type": "execute_result"
    }
   ],
   "source": [
    "df1"
   ]
  },
  {
   "cell_type": "code",
   "execution_count": null,
   "metadata": {},
   "outputs": [],
   "source": []
  },
  {
   "cell_type": "code",
   "execution_count": 4,
   "metadata": {},
   "outputs": [],
   "source": [
    "bought_list_ = ['t/top $/soft 700g white toast',\n",
    " 'farmer brown eggs size 6 12 pk',\n",
    " '“ haagen dazs strawberries 457m]',\n",
    " 'ww chicken padthai w/rice noodles 350g',\n",
    " '*“hansells natur] souphxn chkn & tmto 400g',\n",
    " '* hansells soup chicken corn pouch 400g',\n",
    " '“ cd brq beef sliders 6006']\n",
    "price_ = [3.5, 5.2, 8.0, 4.5, 3.5, 3.5, 7.2]"
   ]
  },
  {
   "cell_type": "code",
   "execution_count": null,
   "metadata": {},
   "outputs": [],
   "source": [
    "    today = datetime.datetime.today()\n",
    "    date = today.strftime(\"%d/%m/%Y\")\n",
    "    date_ = today.strftime(\"%m/%d/%Y\")\n",
    "    datess_ = [date_]*len(bought_list_)\n",
    "    datess = [date]*len(bought_list_)\n",
    "    frames = [bought_list_,price_, datess_]\n",
    "    df1_ = pd.DataFrame(frames)\n",
    "    df1_ = df1_.swapaxes(\"index\", \"columns\")\n",
    "    df11_ = df1_.values\n",
    "    df11_ = df11_.tolist()"
   ]
  },
  {
   "cell_type": "code",
   "execution_count": 14,
   "metadata": {},
   "outputs": [],
   "source": [
    "from google.oauth2.service_account import Credentials\n",
    "from googleapiclient.discovery import build"
   ]
  },
  {
   "cell_type": "code",
   "execution_count": 49,
   "metadata": {},
   "outputs": [
    {
     "ename": "TypeError",
     "evalue": "Object of type datetime is not JSON serializable",
     "output_type": "error",
     "traceback": [
      "\u001b[1;31m---------------------------------------------------------------------------\u001b[0m",
      "\u001b[1;31mTypeError\u001b[0m                                 Traceback (most recent call last)",
      "\u001b[1;32m<ipython-input-49-8c696a16c71f>\u001b[0m in \u001b[0;36m<module>\u001b[1;34m\u001b[0m\n\u001b[0;32m     14\u001b[0m \u001b[0mbody\u001b[0m \u001b[1;33m=\u001b[0m \u001b[1;33m{\u001b[0m\u001b[1;34m'values'\u001b[0m \u001b[1;33m:\u001b[0m \u001b[0mvalues\u001b[0m\u001b[1;33m}\u001b[0m\u001b[1;33m\u001b[0m\u001b[1;33m\u001b[0m\u001b[0m\n\u001b[0;32m     15\u001b[0m \u001b[1;33m\u001b[0m\u001b[0m\n\u001b[1;32m---> 16\u001b[1;33m sheet.values().append(spreadsheetId=SPREADSHEET_ID, \n\u001b[0m\u001b[0;32m     17\u001b[0m                       \u001b[0mvalueInputOption\u001b[0m\u001b[1;33m=\u001b[0m\u001b[1;34m'RAW'\u001b[0m\u001b[1;33m,\u001b[0m\u001b[1;33m\u001b[0m\u001b[1;33m\u001b[0m\u001b[0m\n\u001b[0;32m     18\u001b[0m                       \u001b[0mrange\u001b[0m\u001b[1;33m=\u001b[0m\u001b[0mrange\u001b[0m\u001b[1;33m,\u001b[0m\u001b[1;33m\u001b[0m\u001b[1;33m\u001b[0m\u001b[0m\n",
      "\u001b[1;32m~\\anaconda3\\lib\\site-packages\\googleapiclient\\discovery.py\u001b[0m in \u001b[0;36mmethod\u001b[1;34m(self, **kwargs)\u001b[0m\n\u001b[0;32m   1076\u001b[0m \u001b[1;33m\u001b[0m\u001b[0m\n\u001b[0;32m   1077\u001b[0m         \u001b[0mheaders\u001b[0m \u001b[1;33m=\u001b[0m \u001b[1;33m{\u001b[0m\u001b[1;33m}\u001b[0m\u001b[1;33m\u001b[0m\u001b[1;33m\u001b[0m\u001b[0m\n\u001b[1;32m-> 1078\u001b[1;33m         headers, params, query, body = model.request(\n\u001b[0m\u001b[0;32m   1079\u001b[0m             \u001b[0mheaders\u001b[0m\u001b[1;33m,\u001b[0m \u001b[0mactual_path_params\u001b[0m\u001b[1;33m,\u001b[0m \u001b[0mactual_query_params\u001b[0m\u001b[1;33m,\u001b[0m \u001b[0mbody_value\u001b[0m\u001b[1;33m\u001b[0m\u001b[1;33m\u001b[0m\u001b[0m\n\u001b[0;32m   1080\u001b[0m         )\n",
      "\u001b[1;32m~\\anaconda3\\lib\\site-packages\\googleapiclient\\model.py\u001b[0m in \u001b[0;36mrequest\u001b[1;34m(self, headers, path_params, query_params, body_value)\u001b[0m\n\u001b[0;32m    160\u001b[0m         \u001b[1;32mif\u001b[0m \u001b[0mbody_value\u001b[0m \u001b[1;32mis\u001b[0m \u001b[1;32mnot\u001b[0m \u001b[1;32mNone\u001b[0m\u001b[1;33m:\u001b[0m\u001b[1;33m\u001b[0m\u001b[1;33m\u001b[0m\u001b[0m\n\u001b[0;32m    161\u001b[0m             \u001b[0mheaders\u001b[0m\u001b[1;33m[\u001b[0m\u001b[1;34m\"content-type\"\u001b[0m\u001b[1;33m]\u001b[0m \u001b[1;33m=\u001b[0m \u001b[0mself\u001b[0m\u001b[1;33m.\u001b[0m\u001b[0mcontent_type\u001b[0m\u001b[1;33m\u001b[0m\u001b[1;33m\u001b[0m\u001b[0m\n\u001b[1;32m--> 162\u001b[1;33m             \u001b[0mbody_value\u001b[0m \u001b[1;33m=\u001b[0m \u001b[0mself\u001b[0m\u001b[1;33m.\u001b[0m\u001b[0mserialize\u001b[0m\u001b[1;33m(\u001b[0m\u001b[0mbody_value\u001b[0m\u001b[1;33m)\u001b[0m\u001b[1;33m\u001b[0m\u001b[1;33m\u001b[0m\u001b[0m\n\u001b[0m\u001b[0;32m    163\u001b[0m         \u001b[0mself\u001b[0m\u001b[1;33m.\u001b[0m\u001b[0m_log_request\u001b[0m\u001b[1;33m(\u001b[0m\u001b[0mheaders\u001b[0m\u001b[1;33m,\u001b[0m \u001b[0mpath_params\u001b[0m\u001b[1;33m,\u001b[0m \u001b[0mquery\u001b[0m\u001b[1;33m,\u001b[0m \u001b[0mbody_value\u001b[0m\u001b[1;33m)\u001b[0m\u001b[1;33m\u001b[0m\u001b[1;33m\u001b[0m\u001b[0m\n\u001b[0;32m    164\u001b[0m         \u001b[1;32mreturn\u001b[0m \u001b[1;33m(\u001b[0m\u001b[0mheaders\u001b[0m\u001b[1;33m,\u001b[0m \u001b[0mpath_params\u001b[0m\u001b[1;33m,\u001b[0m \u001b[0mquery\u001b[0m\u001b[1;33m,\u001b[0m \u001b[0mbody_value\u001b[0m\u001b[1;33m)\u001b[0m\u001b[1;33m\u001b[0m\u001b[1;33m\u001b[0m\u001b[0m\n",
      "\u001b[1;32m~\\anaconda3\\lib\\site-packages\\googleapiclient\\model.py\u001b[0m in \u001b[0;36mserialize\u001b[1;34m(self, body_value)\u001b[0m\n\u001b[0;32m    273\u001b[0m         ):\n\u001b[0;32m    274\u001b[0m             \u001b[0mbody_value\u001b[0m \u001b[1;33m=\u001b[0m \u001b[1;33m{\u001b[0m\u001b[1;34m\"data\"\u001b[0m\u001b[1;33m:\u001b[0m \u001b[0mbody_value\u001b[0m\u001b[1;33m}\u001b[0m\u001b[1;33m\u001b[0m\u001b[1;33m\u001b[0m\u001b[0m\n\u001b[1;32m--> 275\u001b[1;33m         \u001b[1;32mreturn\u001b[0m \u001b[0mjson\u001b[0m\u001b[1;33m.\u001b[0m\u001b[0mdumps\u001b[0m\u001b[1;33m(\u001b[0m\u001b[0mbody_value\u001b[0m\u001b[1;33m)\u001b[0m\u001b[1;33m\u001b[0m\u001b[1;33m\u001b[0m\u001b[0m\n\u001b[0m\u001b[0;32m    276\u001b[0m \u001b[1;33m\u001b[0m\u001b[0m\n\u001b[0;32m    277\u001b[0m     \u001b[1;32mdef\u001b[0m \u001b[0mdeserialize\u001b[0m\u001b[1;33m(\u001b[0m\u001b[0mself\u001b[0m\u001b[1;33m,\u001b[0m \u001b[0mcontent\u001b[0m\u001b[1;33m)\u001b[0m\u001b[1;33m:\u001b[0m\u001b[1;33m\u001b[0m\u001b[1;33m\u001b[0m\u001b[0m\n",
      "\u001b[1;32m~\\anaconda3\\lib\\json\\__init__.py\u001b[0m in \u001b[0;36mdumps\u001b[1;34m(obj, skipkeys, ensure_ascii, check_circular, allow_nan, cls, indent, separators, default, sort_keys, **kw)\u001b[0m\n\u001b[0;32m    229\u001b[0m         \u001b[0mcls\u001b[0m \u001b[1;32mis\u001b[0m \u001b[1;32mNone\u001b[0m \u001b[1;32mand\u001b[0m \u001b[0mindent\u001b[0m \u001b[1;32mis\u001b[0m \u001b[1;32mNone\u001b[0m \u001b[1;32mand\u001b[0m \u001b[0mseparators\u001b[0m \u001b[1;32mis\u001b[0m \u001b[1;32mNone\u001b[0m \u001b[1;32mand\u001b[0m\u001b[1;33m\u001b[0m\u001b[1;33m\u001b[0m\u001b[0m\n\u001b[0;32m    230\u001b[0m         default is None and not sort_keys and not kw):\n\u001b[1;32m--> 231\u001b[1;33m         \u001b[1;32mreturn\u001b[0m \u001b[0m_default_encoder\u001b[0m\u001b[1;33m.\u001b[0m\u001b[0mencode\u001b[0m\u001b[1;33m(\u001b[0m\u001b[0mobj\u001b[0m\u001b[1;33m)\u001b[0m\u001b[1;33m\u001b[0m\u001b[1;33m\u001b[0m\u001b[0m\n\u001b[0m\u001b[0;32m    232\u001b[0m     \u001b[1;32mif\u001b[0m \u001b[0mcls\u001b[0m \u001b[1;32mis\u001b[0m \u001b[1;32mNone\u001b[0m\u001b[1;33m:\u001b[0m\u001b[1;33m\u001b[0m\u001b[1;33m\u001b[0m\u001b[0m\n\u001b[0;32m    233\u001b[0m         \u001b[0mcls\u001b[0m \u001b[1;33m=\u001b[0m \u001b[0mJSONEncoder\u001b[0m\u001b[1;33m\u001b[0m\u001b[1;33m\u001b[0m\u001b[0m\n",
      "\u001b[1;32m~\\anaconda3\\lib\\json\\encoder.py\u001b[0m in \u001b[0;36mencode\u001b[1;34m(self, o)\u001b[0m\n\u001b[0;32m    197\u001b[0m         \u001b[1;31m# exceptions aren't as detailed.  The list call should be roughly\u001b[0m\u001b[1;33m\u001b[0m\u001b[1;33m\u001b[0m\u001b[1;33m\u001b[0m\u001b[0m\n\u001b[0;32m    198\u001b[0m         \u001b[1;31m# equivalent to the PySequence_Fast that ''.join() would do.\u001b[0m\u001b[1;33m\u001b[0m\u001b[1;33m\u001b[0m\u001b[1;33m\u001b[0m\u001b[0m\n\u001b[1;32m--> 199\u001b[1;33m         \u001b[0mchunks\u001b[0m \u001b[1;33m=\u001b[0m \u001b[0mself\u001b[0m\u001b[1;33m.\u001b[0m\u001b[0miterencode\u001b[0m\u001b[1;33m(\u001b[0m\u001b[0mo\u001b[0m\u001b[1;33m,\u001b[0m \u001b[0m_one_shot\u001b[0m\u001b[1;33m=\u001b[0m\u001b[1;32mTrue\u001b[0m\u001b[1;33m)\u001b[0m\u001b[1;33m\u001b[0m\u001b[1;33m\u001b[0m\u001b[0m\n\u001b[0m\u001b[0;32m    200\u001b[0m         \u001b[1;32mif\u001b[0m \u001b[1;32mnot\u001b[0m \u001b[0misinstance\u001b[0m\u001b[1;33m(\u001b[0m\u001b[0mchunks\u001b[0m\u001b[1;33m,\u001b[0m \u001b[1;33m(\u001b[0m\u001b[0mlist\u001b[0m\u001b[1;33m,\u001b[0m \u001b[0mtuple\u001b[0m\u001b[1;33m)\u001b[0m\u001b[1;33m)\u001b[0m\u001b[1;33m:\u001b[0m\u001b[1;33m\u001b[0m\u001b[1;33m\u001b[0m\u001b[0m\n\u001b[0;32m    201\u001b[0m             \u001b[0mchunks\u001b[0m \u001b[1;33m=\u001b[0m \u001b[0mlist\u001b[0m\u001b[1;33m(\u001b[0m\u001b[0mchunks\u001b[0m\u001b[1;33m)\u001b[0m\u001b[1;33m\u001b[0m\u001b[1;33m\u001b[0m\u001b[0m\n",
      "\u001b[1;32m~\\anaconda3\\lib\\json\\encoder.py\u001b[0m in \u001b[0;36miterencode\u001b[1;34m(self, o, _one_shot)\u001b[0m\n\u001b[0;32m    255\u001b[0m                 \u001b[0mself\u001b[0m\u001b[1;33m.\u001b[0m\u001b[0mkey_separator\u001b[0m\u001b[1;33m,\u001b[0m \u001b[0mself\u001b[0m\u001b[1;33m.\u001b[0m\u001b[0mitem_separator\u001b[0m\u001b[1;33m,\u001b[0m \u001b[0mself\u001b[0m\u001b[1;33m.\u001b[0m\u001b[0msort_keys\u001b[0m\u001b[1;33m,\u001b[0m\u001b[1;33m\u001b[0m\u001b[1;33m\u001b[0m\u001b[0m\n\u001b[0;32m    256\u001b[0m                 self.skipkeys, _one_shot)\n\u001b[1;32m--> 257\u001b[1;33m         \u001b[1;32mreturn\u001b[0m \u001b[0m_iterencode\u001b[0m\u001b[1;33m(\u001b[0m\u001b[0mo\u001b[0m\u001b[1;33m,\u001b[0m \u001b[1;36m0\u001b[0m\u001b[1;33m)\u001b[0m\u001b[1;33m\u001b[0m\u001b[1;33m\u001b[0m\u001b[0m\n\u001b[0m\u001b[0;32m    258\u001b[0m \u001b[1;33m\u001b[0m\u001b[0m\n\u001b[0;32m    259\u001b[0m def _make_iterencode(markers, _default, _encoder, _indent, _floatstr,\n",
      "\u001b[1;32m~\\anaconda3\\lib\\json\\encoder.py\u001b[0m in \u001b[0;36mdefault\u001b[1;34m(self, o)\u001b[0m\n\u001b[0;32m    177\u001b[0m \u001b[1;33m\u001b[0m\u001b[0m\n\u001b[0;32m    178\u001b[0m         \"\"\"\n\u001b[1;32m--> 179\u001b[1;33m         raise TypeError(f'Object of type {o.__class__.__name__} '\n\u001b[0m\u001b[0;32m    180\u001b[0m                         f'is not JSON serializable')\n\u001b[0;32m    181\u001b[0m \u001b[1;33m\u001b[0m\u001b[0m\n",
      "\u001b[1;31mTypeError\u001b[0m: Object of type datetime is not JSON serializable"
     ]
    }
   ],
   "source": [
    "SERVICE_ACCOUNT_FILE = r\"C:\\Users\\joerr\\Desktop\\Receipts\\bought-items-ba2eba779d68.json\"\n",
    "SPREADSHEET_ID = '1-C5O9iVUGOLKjtEBfYW4hDCXRt2Gmbwcg5jyumhk_9c'\n",
    "\n",
    "SCOPES = ['https://spreadsheets.google.com/feeds',\n",
    "          'https://www.googleapis.com/auth/drive']\n",
    "credentials = Credentials.from_service_account_file(SERVICE_ACCOUNT_FILE, scopes=SCOPES)\n",
    "\n",
    "service = build('sheets', 'v4', credentials=credentials)\n",
    " \n",
    "sheet = service.spreadsheets()\n",
    "\n",
    "range = 'A1'\n",
    "values = [[date_]]\n",
    "body = {'values' : values}\n",
    " \n",
    "sheet.values().append(spreadsheetId=SPREADSHEET_ID, \n",
    "                      valueInputOption='RAW',\n",
    "                      range=range,\n",
    "                      body=body).execute()"
   ]
  },
  {
   "cell_type": "code",
   "execution_count": 34,
   "metadata": {},
   "outputs": [
    {
     "data": {
      "text/plain": [
       "{'spreadsheetId': '1-C5O9iVUGOLKjtEBfYW4hDCXRt2Gmbwcg5jyumhk_9c',\n",
       " 'updatedRange': 'Sheet1!A295',\n",
       " 'updatedRows': 1,\n",
       " 'updatedColumns': 1,\n",
       " 'updatedCells': 1}"
      ]
     },
     "execution_count": 34,
     "metadata": {},
     "output_type": "execute_result"
    }
   ],
   "source": [
    "import gspread\n",
    "\n",
    "SERVICE_ACCOUNT_FILE = r\"C:\\Users\\joerr\\Desktop\\Receipts\\bought-items-ba2eba779d68.json\"\n",
    "SPREADSHEET_ID = '1-C5O9iVUGOLKjtEBfYW4hDCXRt2Gmbwcg5jyumhk_9c'\n",
    "\n",
    "SCOPES = ['https://spreadsheets.google.com/feeds',\n",
    "          'https://www.googleapis.com/auth/drive']\n",
    "\n",
    "credentials = Credentials.from_service_account_file(SERVICE_ACCOUNT_FILE, scopes=SCOPES)\n",
    "client = gspread.authorize(credentials)\n",
    "rsheet = client.open_by_url('https://docs.google.com/spreadsheets/d/1-C5O9iVUGOLKjtEBfYW4hDCXRt2Gmbwcg5jyumhk_9c')\n",
    "\n",
    "#define the correct worksheet, index - 0 is the first sheet, 1 is the second...\n",
    "sheet = rsheet.get_worksheet(0)\n",
    "\n",
    "sheet.update_acell('A295' , datetime.datetime.today().strftime('%d/%m/%Y'))"
   ]
  }
 ],
 "metadata": {
  "kernelspec": {
   "display_name": "Python 3",
   "language": "python",
   "name": "python3"
  },
  "language_info": {
   "codemirror_mode": {
    "name": "ipython",
    "version": 3
   },
   "file_extension": ".py",
   "mimetype": "text/x-python",
   "name": "python",
   "nbconvert_exporter": "python",
   "pygments_lexer": "ipython3",
   "version": "3.8.5"
  }
 },
 "nbformat": 4,
 "nbformat_minor": 4
}
